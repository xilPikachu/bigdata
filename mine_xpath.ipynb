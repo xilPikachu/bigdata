{
 "cells": [
  {
   "cell_type": "markdown",
   "metadata": {},
   "source": [
    "# 解析库的使用"
   ]
  },
  {
   "cell_type": "markdown",
   "metadata": {},
   "source": [
    "|表达式|描述|\n",
    "|----|----|\n",
    "| nodename    |选取此节点的所有子节点|\n",
    "| /                                                                         |从当前节点选取直接子节点|\n",
    "| // |从当前节点选取子孙节点|\n",
    "| . |选取当前节点|\n",
    "| .. |选取当前节点的父节点|\n",
    "| @ |选取属性"
   ]
  },
  {
   "cell_type": "code",
   "execution_count": 6,
   "metadata": {},
   "outputs": [
    {
     "name": "stdout",
     "output_type": "stream",
     "text": [
      "-------------\n",
      "<class 'lxml.etree._Element'>\n",
      "-------------\n",
      "<class 'bytes'>\n",
      "b'<html><body><div>\\n<ul>\\n<li class=\"item-0\"><a href=\"link1.html\">firstitem</a></li>\\n<li class=\"item-1\"><a href=\"link2.html\">second item</a></li>\\n<li class=\"item-inactive\"><a href=\"link3.html\">trird item</a></li>\\n<li class=\"item-1\"><a href=\"link4.html\">fourth item</a></li>\\n<li class=\"item-0\"><a href=\"link5.html\">fifth item</a>\\n</li></ul>\\n</div>\\n</body></html>'\n",
      "-------------\n",
      "<class 'str'>\n",
      "-------------\n",
      "<html><body><div>\n",
      "<ul>\n",
      "<li class=\"item-0\"><a href=\"link1.html\">firstitem</a></li>\n",
      "<li class=\"item-1\"><a href=\"link2.html\">second item</a></li>\n",
      "<li class=\"item-inactive\"><a href=\"link3.html\">trird item</a></li>\n",
      "<li class=\"item-1\"><a href=\"link4.html\">fourth item</a></li>\n",
      "<li class=\"item-0\"><a href=\"link5.html\">fifth item</a>\n",
      "</li></ul>\n",
      "</div>\n",
      "</body></html>\n"
     ]
    }
   ],
   "source": [
    "from lxml import etree\n",
    "\n",
    "text='''\n",
    "<div>\n",
    "<ul>\n",
    "<li class=\"item-0\"><a href=\"link1.html\">firstitem</a></li>\n",
    "<li class=\"item-1\"><a href=\"link2.html\">second item</a></li>\n",
    "<li class=\"item-inactive\"><a href=\"link3.html\">trird item</a></li>\n",
    "<li class=\"item-1\"><a href=\"link4.html\">fourth item</a></li>\n",
    "<li class=\"item-0\"><a href=\"link5.html\">fifth item</a>\n",
    "</ul>\n",
    "</div>\n",
    "'''\n",
    "html = etree.HTML(text)\n",
    "print('-------------')\n",
    "print(type(html))\n",
    "print('-------------')\n",
    "result = etree.tostring(html)\n",
    "print(type(result))\n",
    "print(result)\n",
    "print('-------------')\n",
    "# deccode方法转换成str类型\n",
    "print(type(result.decode('utf-8')))\n",
    "print('-------------')\n",
    "print(result.decode('utf-8'))"
   ]
  },
  {
   "cell_type": "code",
   "execution_count": 15,
   "metadata": {},
   "outputs": [
    {
     "name": "stdout",
     "output_type": "stream",
     "text": [
      "<class 'lxml.etree._Element'>\n",
      "[<Element li at 0x260023d2648>, <Element li at 0x260023d2688>, <Element li at 0x260023d26c8>, <Element li at 0x260023d2708>, <Element li at 0x260023d2748>] 5 <class 'list'>\n",
      "<Element li at 0x260023d2648> <class 'lxml.etree._Element'>\n",
      "------------\n",
      "firstitem <class 'lxml.etree._ElementUnicodeResult'>\n"
     ]
    }
   ],
   "source": [
    "from lxml import etree\n",
    "\n",
    "text='''\n",
    "<div>\n",
    "<ul>\n",
    "<li class=\"item-0\"><a href=\"link1.html\">firstitem</a></li>\n",
    "<li class=\"item-1\"><a href=\"link2.html\">second item</a></li>\n",
    "<li class=\"item-inactive\"><a href=\"link3.html\">trird item</a></li>\n",
    "<li class=\"item-1\"><a href=\"link4.html\">fourth item</a></li>\n",
    "<li class=\"item-0\"><a href=\"link5.html\">fifth item</a>\n",
    "</ul>\n",
    "</div>\n",
    "'''\n",
    "html = etree.HTML(text)\n",
    "print(type(html))\n",
    "# results = html.xpath('//*')\n",
    "# print(type(results), len(results))\n",
    "# print(results)\n",
    "# print(results[9])\n",
    "results1 = html.xpath('//li')\n",
    "print(results1, len(results1), type(results1))\n",
    "print(results1[0], type(results1[0]))\n",
    "\n",
    "print('------------')\n",
    "print(results1[0].xpath('./a/text()')[0], type(results1[0].xpath('./a/text()')[0]))"
   ]
  },
  {
   "cell_type": "code",
   "execution_count": 15,
   "metadata": {},
   "outputs": [
    {
     "name": "stdout",
     "output_type": "stream",
     "text": [
      "[<Element a at 0x1c6da57a948>, <Element a at 0x1c6da57a988>, <Element a at 0x1c6da57a9c8>, <Element a at 0x1c6da57aa08>, <Element a at 0x1c6da57aa48>] 5\n",
      "------------\n",
      "[<Element a at 0x1c6da57a948>, <Element a at 0x1c6da57a988>, <Element a at 0x1c6da57a9c8>, <Element a at 0x1c6da57aa08>, <Element a at 0x1c6da57aa48>, <Element a at 0x1c6da57aac8>, <Element a at 0x1c6da57ab08>, <Element a at 0x1c6da57ab48>, <Element a at 0x1c6da57ab88>, <Element a at 0x1c6da57a908>] 10\n",
      "------------\n",
      "[<Element a at 0x1c6da57aac8>, <Element a at 0x1c6da57ab08>, <Element a at 0x1c6da57ab48>, <Element a at 0x1c6da57ab88>, <Element a at 0x1c6da57a908>] 5\n"
     ]
    }
   ],
   "source": [
    "from lxml import etree\n",
    "\n",
    "text='''\n",
    "<div>\n",
    "<ul>\n",
    "<li1 class=\"item-0\"><a href=\"link1.html\">firstitem</a></li>\n",
    "<li1 class=\"item-1\"><a href=\"link2.html\">second item</a></li>\n",
    "<li1 class=\"item-inactive\"><a href=\"link3.html\">trird item</a></li>\n",
    "<li1 class=\"item-1\"><a href=\"link4.html\">fourth item</a></li>\n",
    "<li1 class=\"item-0\"><a href=\"link5.html\">fifth item</a>\n",
    "</ul>\n",
    "<ul>\n",
    "<li class=\"item-0\"><a href=\"link1.html\">firstitem</a></li>\n",
    "<li class=\"item-1\"><a href=\"link2.html\">second item</a></li>\n",
    "<li class=\"item-inactive\"><a href=\"link3.html\">trird item</a></li>\n",
    "<li class=\"item-1\"><a href=\"link4.html\">fourth item</a></li>\n",
    "<li class=\"item-0\"><a href=\"link5.html\">fifth item</a>\n",
    "</ul>\n",
    "</div>\n",
    "'''\n",
    "html = etree.HTML(text)\n",
    "result = html.xpath('//li1//a')\n",
    "result1 = html.xpath('//a')\n",
    "result2 = html.xpath('//li/child::*')\n",
    "print(results, len(result))\n",
    "print('------------')\n",
    "print(results1, len(result1))\n",
    "print('------------')\n",
    "print(results2, len(result2))"
   ]
  },
  {
   "cell_type": "code",
   "execution_count": 26,
   "metadata": {},
   "outputs": [
    {
     "name": "stdout",
     "output_type": "stream",
     "text": [
      "['item-0', 'item-1', 'item-inactive', 'item-2', 'item-0']\n"
     ]
    }
   ],
   "source": [
    "from lxml import etree\n",
    "\n",
    "text='''\n",
    "<div>\n",
    "<ul>\n",
    "<li class=\"item-0\"><a href=\"link1.html\">firstitem</a></li>\n",
    "<li class=\"item-1\"><a href=\"link2.html\">second item</a></li>\n",
    "<li class=\"item-inactive\"><a href=\"link3.html\">trird item</a></li>\n",
    "<li class=\"item-2\"><a href=\"link4.html\">fourth item</a></li>\n",
    "<li class=\"item-0\"><a href=\"link5.html\">fifth item</a>\n",
    "</ul>\n",
    "</div>\n",
    "'''\n",
    "html = etree.HTML(text)\n",
    "\n",
    "result = html.xpath('//a/..')\n",
    "# print(result)\n",
    "# print(len(result))\n",
    "# print('--------')\n",
    "# result1 = html.xpath('//a/parent::*')\n",
    "# print(result1)\n",
    "# print(len(result1))\n",
    "# print(result[3].xpath('./@class'))\n",
    "# print(html.xpath('//a/../@class'))\n",
    "# result = html.xpath('//a[@href = \"link4.html\"]/../@class')\n",
    "# print(result)\n",
    "# # print('-----------')\n",
    "# result = html.xpath('//li[@class = \"item-0\"]')\n",
    "# print(result)\n",
    "# print(html.xpath('//li[@class = \"item-0\"]/text()'))\n",
    "print(html.xpath('//li/@class'))"
   ]
  },
  {
   "cell_type": "code",
   "execution_count": 26,
   "metadata": {},
   "outputs": [
    {
     "name": "stdout",
     "output_type": "stream",
     "text": [
      "[]\n",
      "trird item\n",
      "[<Element li at 0x260023cf108>]\n"
     ]
    }
   ],
   "source": [
    "from lxml import etree\n",
    "\n",
    "text='''\n",
    "<div>\n",
    "<ul>\n",
    "<li class=\"item-0\"><a href=\"link1.html\">firstitem</a></li>\n",
    "<li class=\"item-1\"><a href=\"link2.html\">second item</a></li>\n",
    "<li class=\"item-inactive\" name=\"mine item\"><a href=\"link3.html\">trird item</a></li>\n",
    "<li class=\"item-1\"><a href=\"link4.html\">fourth item</a></li>\n",
    "<li class=\"item-0\"><a href=\"link5.html\">fifth item</a>\n",
    "</ul>\n",
    "</div>\n",
    "'''\n",
    "html = etree.HTML(text)\n",
    "result = html.xpath('//li[@name = \"mine\"]')\n",
    "result1 = html.xpath('//li[contains(@name, \"mine\")]//text()')\n",
    "result2 = html.xpath('//li[contains(@name, \"mine\")]')\n",
    "print(result)\n",
    "print(result1[0])\n",
    "print(result2)\n",
    "# print(type(result2[0]))\n",
    "# print(result2[0].xpath('./a/text()'))"
   ]
  },
  {
   "cell_type": "code",
   "execution_count": 34,
   "metadata": {},
   "outputs": [
    {
     "name": "stdout",
     "output_type": "stream",
     "text": [
      "['fifth item', '\\n']\n"
     ]
    }
   ],
   "source": [
    "from lxml import etree\n",
    "\n",
    "text='''\n",
    "<div>\n",
    "<ul>\n",
    "<li class=\"item-6\"><a href=\"link1.html\">first item</a></li>\n",
    "<li class=\"item-1\"><a href=\"link2.html\">second item</a></li>\n",
    "<li class=\"item-inactive\"><a href=\"link3.html\">trird item</a></li>\n",
    "<li class=\"item-1\"><a href=\"link4.html\">fourth item</a></li>\n",
    "<li class=\"item-7\"><a href=\"link5.html\">fifth item</a>\n",
    "</ul>\n",
    "</div>\n",
    "'''\n",
    "html = etree.HTML(text)\n",
    "# text = etree.tostring(html)\n",
    "# print(text)\n",
    "\n",
    "result = html.xpath('//li[@class = \"item-7\"]//text()')\n",
    "print(result)"
   ]
  },
  {
   "cell_type": "code",
   "execution_count": 27,
   "metadata": {},
   "outputs": [
    {
     "name": "stdout",
     "output_type": "stream",
     "text": [
      "['item-0', 'item-1', 'item-inactive', 'item-1', 'item-0']\n"
     ]
    }
   ],
   "source": [
    "from lxml import etree\n",
    "\n",
    "text='''\n",
    "<div>\n",
    "<ul>\n",
    "<li class=\"item-0\"><a href=\"link1.html\">first item</a></li>\n",
    "<li class=\"item-1\"><a href=\"link2.html\">second item</a></li>\n",
    "<li class=\"item-inactive\"><a href=\"link3.html\">trird item</a></li>\n",
    "<li class=\"item-1\"><a href=\"link4.html\">fourth item</a></li>\n",
    "<li class=\"item-0\"><a href=\"link5.html\">fifth item</a>\n",
    "</ul>\n",
    "</div>\n",
    "'''\n",
    "html = etree.HTML(text)\n",
    "result = html.xpath('//li/@class')\n",
    "print(result)"
   ]
  },
  {
   "cell_type": "code",
   "execution_count": 4,
   "metadata": {},
   "outputs": [
    {
     "name": "stdout",
     "output_type": "stream",
     "text": [
      "[]\n",
      "['trird item']\n"
     ]
    }
   ],
   "source": [
    "from lxml import etree\n",
    "\n",
    "text='''\n",
    "<div>\n",
    "<ul>\n",
    "<li class=\"item-0\"><a href=\"link1.html\">first item</a></li>\n",
    "<li class=\"item-1\"><a href=\"link2.html\">second item</a></li>\n",
    "<li class=\"item-inactive item-2\" name = \"mine\"><a href=\"link3.html\">trird item</a></li>\n",
    "<li class=\"item-1\"><a href=\"link4.html\">fourth item</a></li>\n",
    "<li class=\"item-0\"><a href=\"link5.html\">fifth item</a>\n",
    "</ul>\n",
    "</div>\n",
    "'''\n",
    "html = etree.HTML(text)\n",
    "result = html.xpath('//li[@class = \"item-2\"]/a/text()')\n",
    "result1 = html.xpath('//li[contains(@class, \"item-2\")]/a/text()')\n",
    "# result2 = html.xpath('//li[contains(@class = \"item-2\")]/a/text()')\n",
    "print(result)\n",
    "print(result1)\n",
    "# print(result2)\n",
    "result = html.xpath('//li')\n",
    "# print(result[0].xpath('./a/text()'), result[0].xpath('./a/@href'))\n",
    "# print(html.xpath('//li/attribute::*'))"
   ]
  },
  {
   "cell_type": "code",
   "execution_count": 39,
   "metadata": {},
   "outputs": [
    {
     "name": "stdout",
     "output_type": "stream",
     "text": [
      "-------------\n",
      "-------------\n",
      "['trird item']\n",
      "-------------\n"
     ]
    }
   ],
   "source": [
    "from lxml import etree\n",
    "\n",
    "text='''\n",
    "<div>\n",
    "<ul>\n",
    "<li class=\"item-0\"><a href=\"link1.html\">first item</a></li>\n",
    "<li class=\"item-1\"><a href=\"link2.html\">second item</a></li>\n",
    "<li class=\"item-inactive item-2\" name = \"mine\"><a href=\"link3.html\">trird item</a></li>\n",
    "<li class=\"item-1\" name = \"mine\"><a href=\"link4.html\">fourth item</a></li>\n",
    "<li class=\"item-0\"><a href=\"link5.html\">fifth item</a>\n",
    "</ul>\n",
    "</div>\n",
    "'''\n",
    "html = etree.HTML(text)\n",
    "# result = html.xpath('//li[@class = \"item-2\"]/a/text()')\n",
    "# result1 = html.xpath('//li[contains(@class, \"item-2\") or @name = \"mine\"]/a/text()')\n",
    "result2 = html.xpath('//li[contains(@class, \"item-2\") and @name = \"mine\"]/a/text()')\n",
    "# print(result)\n",
    "print('-------------')\n",
    "# print(result1)\n",
    "print('-------------')\n",
    "print(result2)\n",
    "print('-------------')\n",
    "# print(html.xpath('//ul | //li[@class = \"item-1\"]'))"
   ]
  },
  {
   "cell_type": "code",
   "execution_count": 56,
   "metadata": {},
   "outputs": [
    {
     "name": "stdout",
     "output_type": "stream",
     "text": [
      "-------------\n",
      "['fifth item']\n",
      "-------------\n",
      "['fifth item']\n",
      "-------------\n",
      "['first item', 'second item']\n",
      "-------------\n",
      "['third item']\n",
      "-------------\n",
      "[<Element html at 0x1bf3ae71cc8>, <Element body at 0x1bf3ae71608>, <Element div at 0x1bf3ae71848>, <Element ul at 0x1bf3ae71188>]\n",
      "-------------\n",
      "['item-0', 'link1.html', 'item-1', 'link2.html', 'item-inactive item-2', 'mine', 'link3.html', 'item-1', 'link4.html', 'item-0', 'link5.html']\n"
     ]
    }
   ],
   "source": [
    "from lxml import etree\n",
    "\n",
    "text='''\n",
    "<div>\n",
    "<ul>\n",
    "<li class=\"item-0\"><a href=\"link1.html\">first item</a></li>\n",
    "<li class=\"item-1\"><a href=\"link2.html\">second item</a></li>\n",
    "<li class=\"item-inactive item-2\" name = \"mine\"><a href=\"link3.html\">third item</a></li>\n",
    "<li class=\"item-1\"><a href=\"link4.html\">fourth item</a></li>\n",
    "<li class=\"item-0\"><a href=\"link5.html\">fifth item</a>\n",
    "</ul>\n",
    "</div>\n",
    "'''\n",
    "html = etree.HTML(text)\n",
    "result = html.xpath('//li[5]/a/text()')\n",
    "print('-------------')\n",
    "print(result)\n",
    "result = html.xpath('//li[last()]/a/text()')\n",
    "print('-------------')\n",
    "print(result)\n",
    "result = html.xpath('//li[position( ) < 3]/a/text()')\n",
    "print('-------------')\n",
    "print(result)\n",
    "print('-------------')\n",
    "result = html.xpath('//li[last() - 2]/a/text()')\n",
    "print(result)\n",
    "print('-------------')\n",
    "print(html.xpath('//li[1]/ancestor::*'))\n",
    "print('-------------')\n",
    "print(html.xpath('//ul//attribute::*'))"
   ]
  }
 ],
 "metadata": {
  "kernelspec": {
   "display_name": "Python 3",
   "language": "python",
   "name": "python3"
  },
  "language_info": {
   "codemirror_mode": {
    "name": "ipython",
    "version": 3
   },
   "file_extension": ".py",
   "mimetype": "text/x-python",
   "name": "python",
   "nbconvert_exporter": "python",
   "pygments_lexer": "ipython3",
   "version": "3.7.4"
  }
 },
 "nbformat": 4,
 "nbformat_minor": 2
}
